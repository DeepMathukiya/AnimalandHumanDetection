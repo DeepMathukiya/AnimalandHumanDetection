{
 "cells": [
  {
   "cell_type": "code",
   "execution_count": 2,
   "id": "709412b2",
   "metadata": {},
   "outputs": [],
   "source": [
    "import fiftyone as fo\n",
    "import fiftyone.zoo as foz\n",
    "import os"
   ]
  },
  {
   "cell_type": "markdown",
   "id": "87ea3e87",
   "metadata": {},
   "source": [
    "Taken Reference To download is from \n",
    "\n",
    "https://storage.googleapis.com/openimages/web/download_v7.html\n",
    "\n",
    "https://docs.voxel51.com/dataset_zoo/datasets.html"
   ]
  },
  {
   "cell_type": "code",
   "execution_count": 4,
   "id": "cc17341b",
   "metadata": {},
   "outputs": [
    {
     "name": "stdout",
     "output_type": "stream",
     "text": [
      "Overwriting existing directory 'C:\\Users\\dsmat\\fiftyone\\open-images-v7\\validation'\n",
      "Downloading split 'validation' to 'C:\\Users\\dsmat\\fiftyone\\open-images-v7\\validation' if necessary\n",
      "Downloading 'https://storage.googleapis.com/openimages/2018_04/validation/validation-images-with-rotation.csv' to 'C:\\Users\\dsmat\\fiftyone\\open-images-v7\\validation\\metadata\\image_ids.csv'\n",
      "Downloading 'https://storage.googleapis.com/openimages/v5/class-descriptions-boxable.csv' to 'C:\\Users\\dsmat\\fiftyone\\open-images-v7\\validation\\metadata\\classes.csv'\n",
      "Downloading 'https://storage.googleapis.com/openimages/2018_04/bbox_labels_600_hierarchy.json' to 'C:\\Users\\dsmat\\AppData\\Local\\Temp\\tmpy7vdnzvk\\metadata\\hierarchy.json'\n",
      "Downloading 'https://storage.googleapis.com/openimages/v5/validation-annotations-bbox.csv' to 'C:\\Users\\dsmat\\fiftyone\\open-images-v7\\validation\\labels\\detections.csv'\n",
      "Only found 211 (<500) samples matching your requirements\n",
      "Downloading 211 images\n",
      " 100% |███████████████████| 211/211 [7.5m elapsed, 0s remaining, 0.2 files/s]     \n",
      "Dataset info written to 'C:\\Users\\dsmat\\fiftyone\\open-images-v7\\info.json'\n",
      "Loading 'open-images-v7' split 'validation'\n",
      " 100% |█████████████████| 211/211 [1.0s elapsed, 0s remaining, 201.6 samples/s]         \n",
      "Dataset 'open-images-animal-1000' created\n"
     ]
    }
   ],
   "source": [
    "animal_data = foz.load_zoo_dataset(\n",
    "    \"open-images-v7\",\n",
    "    split=\"validation\",\n",
    "    label_types=[\"detections\"],\n",
    "    classes=[ \"Animal\"],\n",
    "    max_samples=500, \n",
    "    dataset_name=\"open-images-animal-1000\",\n",
    "    overwrite=True,\n",
    ")"
   ]
  },
  {
   "cell_type": "code",
   "execution_count": 5,
   "id": "48fda54f",
   "metadata": {},
   "outputs": [],
   "source": [
    "for sample in animal_data:\n",
    "    sample.ground_truth.detections = [\n",
    "        det for det in sample.ground_truth.detections if ( det.label == \"Animal\")\n",
    "    ]\n",
    "    sample.save()"
   ]
  },
  {
   "cell_type": "code",
   "execution_count": 6,
   "id": "09a73555",
   "metadata": {},
   "outputs": [
    {
     "data": {
      "text/plain": [
       "211"
      ]
     },
     "execution_count": 6,
     "metadata": {},
     "output_type": "execute_result"
    }
   ],
   "source": [
    "valid_samples = [sample for sample in animal_data if os.path.isfile(sample.filepath)]\n",
    "len(valid_samples)\n"
   ]
  },
  {
   "cell_type": "code",
   "execution_count": 8,
   "id": "cb8fe8e7",
   "metadata": {},
   "outputs": [
    {
     "name": "stdout",
     "output_type": "stream",
     "text": [
      "Directory './animal' already exists; export will be merged with existing files\n",
      " 100% |█████████████████| 211/211 [349.2ms elapsed, 0s remaining, 604.2 samples/s]      \n"
     ]
    }
   ],
   "source": [
    "animal_data.export(\n",
    "    export_dir=\"./animal\",\n",
    "    dataset_type=fo.types.YOLOv5Dataset,\n",
    "    classes=[\"Human head\", \"Animal\"]\n",
    ")"
   ]
  },
  {
   "cell_type": "markdown",
   "id": "5b905cdc",
   "metadata": {},
   "source": [
    "fetch the validation Data"
   ]
  },
  {
   "cell_type": "markdown",
   "id": "7d7ec01e",
   "metadata": {},
   "source": [
    "02fb484d29774952.jpg"
   ]
  },
  {
   "cell_type": "code",
   "execution_count": 9,
   "id": "7d6f6472",
   "metadata": {},
   "outputs": [
    {
     "name": "stdout",
     "output_type": "stream",
     "text": [
      "Overwriting existing directory 'C:\\Users\\dsmat\\fiftyone\\open-images-v7\\validation'\n",
      "Downloading split 'validation' to 'C:\\Users\\dsmat\\fiftyone\\open-images-v7\\validation' if necessary\n",
      "Downloading 'https://storage.googleapis.com/openimages/2018_04/validation/validation-images-with-rotation.csv' to 'C:\\Users\\dsmat\\fiftyone\\open-images-v7\\validation\\metadata\\image_ids.csv'\n",
      "Downloading 'https://storage.googleapis.com/openimages/v5/class-descriptions-boxable.csv' to 'C:\\Users\\dsmat\\fiftyone\\open-images-v7\\validation\\metadata\\classes.csv'\n",
      "Downloading 'https://storage.googleapis.com/openimages/2018_04/bbox_labels_600_hierarchy.json' to 'C:\\Users\\dsmat\\AppData\\Local\\Temp\\tmp25ubb0qk\\metadata\\hierarchy.json'\n",
      "Downloading 'https://storage.googleapis.com/openimages/v5/validation-annotations-bbox.csv' to 'C:\\Users\\dsmat\\fiftyone\\open-images-v7\\validation\\labels\\detections.csv'\n",
      "Downloading 225 images\n",
      " 100% |███████████████████| 225/225 [26.7s elapsed, 0s remaining, 2.2 files/s]       \n",
      "Dataset info written to 'C:\\Users\\dsmat\\fiftyone\\open-images-v7\\info.json'\n",
      "Loading 'open-images-v7' split 'validation'\n",
      " 100% |█████████████████| 225/225 [2.2s elapsed, 0s remaining, 101.2 samples/s]      \n",
      "Dataset 'open-images-val-human-225' created\n"
     ]
    }
   ],
   "source": [
    "human = foz.load_zoo_dataset(\n",
    "    \"open-images-v7\",\n",
    "    split=\"validation\",\n",
    "    label_types=[\"detections\"],\n",
    "    classes=[\"Human head\"],\n",
    "    dataset_name=\"open-images-val-human-225\",\n",
    "    max_samples=225,\n",
    "    overwrite=True, \n",
    ")"
   ]
  },
  {
   "cell_type": "code",
   "execution_count": 10,
   "id": "e998eb12",
   "metadata": {},
   "outputs": [],
   "source": [
    "for sample in human:\n",
    "    sample.ground_truth.detections = [\n",
    "        det for det in sample.ground_truth.detections if det.label == \"Human head\"\n",
    "    ]\n",
    "    sample.save()\n"
   ]
  },
  {
   "cell_type": "code",
   "execution_count": 11,
   "id": "5b6b9191",
   "metadata": {},
   "outputs": [
    {
     "name": "stdout",
     "output_type": "stream",
     "text": [
      "Directory './human' already exists; export will be merged with existing files\n",
      " 100% |█████████████████| 225/225 [3.2s elapsed, 0s remaining, 70.7 samples/s]       \n"
     ]
    }
   ],
   "source": [
    "\n",
    "human.export(\n",
    "    export_dir=\"./human\",\n",
    "    dataset_type=fo.types.YOLOv5Dataset,\n",
    "    classes=[\"Human head\", \"Animal\"]\n",
    ")\n"
   ]
  },
  {
   "cell_type": "code",
   "execution_count": null,
   "id": "7f9616c6",
   "metadata": {},
   "outputs": [],
   "source": []
  }
 ],
 "metadata": {
  "kernelspec": {
   "display_name": "Python 3",
   "language": "python",
   "name": "python3"
  },
  "language_info": {
   "codemirror_mode": {
    "name": "ipython",
    "version": 3
   },
   "file_extension": ".py",
   "mimetype": "text/x-python",
   "name": "python",
   "nbconvert_exporter": "python",
   "pygments_lexer": "ipython3",
   "version": "3.11.5"
  }
 },
 "nbformat": 4,
 "nbformat_minor": 5
}
