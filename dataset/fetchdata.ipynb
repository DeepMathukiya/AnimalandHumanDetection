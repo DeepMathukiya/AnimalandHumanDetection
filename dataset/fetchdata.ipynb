{
 "cells": [
  {
   "cell_type": "code",
   "execution_count": 1,
   "id": "709412b2",
   "metadata": {},
   "outputs": [],
   "source": [
    "import fiftyone as fo\n",
    "import fiftyone.zoo as foz\n",
    "import os"
   ]
  },
  {
   "cell_type": "markdown",
   "id": "87ea3e87",
   "metadata": {},
   "source": [
    "Taken Reference To download is from \n",
    "\n",
    "https://storage.googleapis.com/openimages/web/download_v7.html\n",
    "\n",
    "https://docs.voxel51.com/dataset_zoo/datasets.html"
   ]
  },
  {
   "cell_type": "code",
   "execution_count": 11,
   "id": "cc17341b",
   "metadata": {},
   "outputs": [
    {
     "name": "stdout",
     "output_type": "stream",
     "text": [
      "Downloading split 'train' to 'C:\\Users\\dsmat\\fiftyone\\open-images-v7\\train' if necessary\n",
      "Necessary images already downloaded\n",
      "Existing download of split 'train' is sufficient\n",
      "Loading existing dataset 'open-images-human-animal-500'. To reload from disk, either delete the existing dataset or provide a custom `dataset_name` to use\n"
     ]
    }
   ],
   "source": [
    "train_dataset = foz.load_zoo_dataset(\n",
    "    \"open-images-v7\",\n",
    "    split=\"train\",\n",
    "    label_types=[\"detections\"],\n",
    "    classes=[\"Human head\", \"Animal\"],\n",
    "    max_samples=1000, \n",
    "    dataset_name=\"open-images-human-animal-500\",\n",
    "    # overwrite=True,\n",
    ")"
   ]
  },
  {
   "cell_type": "code",
   "execution_count": 12,
   "id": "48fda54f",
   "metadata": {},
   "outputs": [],
   "source": [
    "for sample in train_dataset:\n",
    "    sample.ground_truth.detections = [\n",
    "        det for det in sample.ground_truth.detections if (det.label == \"Human head\" or det.label == \"Animal\")\n",
    "    ]\n",
    "    sample.save()"
   ]
  },
  {
   "cell_type": "code",
   "execution_count": 15,
   "id": "cb8fe8e7",
   "metadata": {},
   "outputs": [
    {
     "name": "stdout",
     "output_type": "stream",
     "text": [
      "Directory './train' already exists; export will be merged with existing files\n",
      "  15% |██/--------------|  28/185 [63.1ms elapsed, 353.8ms remaining, 443.8 samples/s] \n"
     ]
    },
    {
     "ename": "FileNotFoundError",
     "evalue": "[Errno 2] No such file or directory: 'C:\\\\Users\\\\dsmat\\\\fiftyone\\\\open-images-v7\\\\train\\\\data\\\\0310fbeb641f3af8.jpg'",
     "output_type": "error",
     "traceback": [
      "\u001b[1;31m---------------------------------------------------------------------------\u001b[0m",
      "\u001b[1;31mFileNotFoundError\u001b[0m                         Traceback (most recent call last)",
      "Cell \u001b[1;32mIn[15], line 1\u001b[0m\n\u001b[1;32m----> 1\u001b[0m \u001b[43mtrain_dataset\u001b[49m\u001b[38;5;241;43m.\u001b[39;49m\u001b[43mexport\u001b[49m\u001b[43m(\u001b[49m\n\u001b[0;32m      2\u001b[0m \u001b[43m    \u001b[49m\u001b[43mexport_dir\u001b[49m\u001b[38;5;241;43m=\u001b[39;49m\u001b[38;5;124;43m\"\u001b[39;49m\u001b[38;5;124;43m./train\u001b[39;49m\u001b[38;5;124;43m\"\u001b[39;49m\u001b[43m,\u001b[49m\n\u001b[0;32m      3\u001b[0m \u001b[43m    \u001b[49m\u001b[43mdataset_type\u001b[49m\u001b[38;5;241;43m=\u001b[39;49m\u001b[43mfo\u001b[49m\u001b[38;5;241;43m.\u001b[39;49m\u001b[43mtypes\u001b[49m\u001b[38;5;241;43m.\u001b[39;49m\u001b[43mYOLOv5Dataset\u001b[49m\u001b[43m,\u001b[49m\n\u001b[0;32m      4\u001b[0m \u001b[43m    \u001b[49m\u001b[43mclasses\u001b[49m\u001b[38;5;241;43m=\u001b[39;49m\u001b[43m[\u001b[49m\u001b[38;5;124;43m\"\u001b[39;49m\u001b[38;5;124;43mHuman head\u001b[39;49m\u001b[38;5;124;43m\"\u001b[39;49m\u001b[43m,\u001b[49m\u001b[43m \u001b[49m\u001b[38;5;124;43m\"\u001b[39;49m\u001b[38;5;124;43mAnimal\u001b[39;49m\u001b[38;5;124;43m\"\u001b[39;49m\u001b[43m]\u001b[49m\u001b[43m)\u001b[49m\n",
      "File \u001b[1;32m~\\AppData\\Roaming\\Python\\Python311\\site-packages\\fiftyone\\core\\collections.py:9316\u001b[0m, in \u001b[0;36mSampleCollection.export\u001b[1;34m(self, export_dir, dataset_type, data_path, labels_path, export_media, rel_dir, dataset_exporter, label_field, frame_labels_field, overwrite, progress, **kwargs)\u001b[0m\n\u001b[0;32m   9313\u001b[0m     export_dir, _ \u001b[38;5;241m=\u001b[39m etau\u001b[38;5;241m.\u001b[39msplit_archive(archive_path)\n\u001b[0;32m   9315\u001b[0m \u001b[38;5;66;03m# Perform the export\u001b[39;00m\n\u001b[1;32m-> 9316\u001b[0m \u001b[43m_export\u001b[49m\u001b[43m(\u001b[49m\n\u001b[0;32m   9317\u001b[0m \u001b[43m    \u001b[49m\u001b[38;5;28;43mself\u001b[39;49m\u001b[43m,\u001b[49m\n\u001b[0;32m   9318\u001b[0m \u001b[43m    \u001b[49m\u001b[43mexport_dir\u001b[49m\u001b[38;5;241;43m=\u001b[39;49m\u001b[43mexport_dir\u001b[49m\u001b[43m,\u001b[49m\n\u001b[0;32m   9319\u001b[0m \u001b[43m    \u001b[49m\u001b[43mdataset_type\u001b[49m\u001b[38;5;241;43m=\u001b[39;49m\u001b[43mdataset_type\u001b[49m\u001b[43m,\u001b[49m\n\u001b[0;32m   9320\u001b[0m \u001b[43m    \u001b[49m\u001b[43mdata_path\u001b[49m\u001b[38;5;241;43m=\u001b[39;49m\u001b[43mdata_path\u001b[49m\u001b[43m,\u001b[49m\n\u001b[0;32m   9321\u001b[0m \u001b[43m    \u001b[49m\u001b[43mlabels_path\u001b[49m\u001b[38;5;241;43m=\u001b[39;49m\u001b[43mlabels_path\u001b[49m\u001b[43m,\u001b[49m\n\u001b[0;32m   9322\u001b[0m \u001b[43m    \u001b[49m\u001b[43mexport_media\u001b[49m\u001b[38;5;241;43m=\u001b[39;49m\u001b[43mexport_media\u001b[49m\u001b[43m,\u001b[49m\n\u001b[0;32m   9323\u001b[0m \u001b[43m    \u001b[49m\u001b[43mrel_dir\u001b[49m\u001b[38;5;241;43m=\u001b[39;49m\u001b[43mrel_dir\u001b[49m\u001b[43m,\u001b[49m\n\u001b[0;32m   9324\u001b[0m \u001b[43m    \u001b[49m\u001b[43mdataset_exporter\u001b[49m\u001b[38;5;241;43m=\u001b[39;49m\u001b[43mdataset_exporter\u001b[49m\u001b[43m,\u001b[49m\n\u001b[0;32m   9325\u001b[0m \u001b[43m    \u001b[49m\u001b[43mlabel_field\u001b[49m\u001b[38;5;241;43m=\u001b[39;49m\u001b[43mlabel_field\u001b[49m\u001b[43m,\u001b[49m\n\u001b[0;32m   9326\u001b[0m \u001b[43m    \u001b[49m\u001b[43mframe_labels_field\u001b[49m\u001b[38;5;241;43m=\u001b[39;49m\u001b[43mframe_labels_field\u001b[49m\u001b[43m,\u001b[49m\n\u001b[0;32m   9327\u001b[0m \u001b[43m    \u001b[49m\u001b[43moverwrite\u001b[49m\u001b[38;5;241;43m=\u001b[39;49m\u001b[43moverwrite\u001b[49m\u001b[43m,\u001b[49m\n\u001b[0;32m   9328\u001b[0m \u001b[43m    \u001b[49m\u001b[43mprogress\u001b[49m\u001b[38;5;241;43m=\u001b[39;49m\u001b[43mprogress\u001b[49m\u001b[43m,\u001b[49m\n\u001b[0;32m   9329\u001b[0m \u001b[43m    \u001b[49m\u001b[38;5;241;43m*\u001b[39;49m\u001b[38;5;241;43m*\u001b[39;49m\u001b[43mkwargs\u001b[49m\u001b[43m,\u001b[49m\n\u001b[0;32m   9330\u001b[0m \u001b[43m\u001b[49m\u001b[43m)\u001b[49m\n\u001b[0;32m   9332\u001b[0m \u001b[38;5;66;03m# Make archive, if requested\u001b[39;00m\n\u001b[0;32m   9333\u001b[0m \u001b[38;5;28;01mif\u001b[39;00m archive_path \u001b[38;5;129;01mis\u001b[39;00m \u001b[38;5;129;01mnot\u001b[39;00m \u001b[38;5;28;01mNone\u001b[39;00m:\n",
      "File \u001b[1;32m~\\AppData\\Roaming\\Python\\Python311\\site-packages\\fiftyone\\core\\collections.py:12060\u001b[0m, in \u001b[0;36m_export\u001b[1;34m(sample_collection, export_dir, dataset_type, data_path, labels_path, export_media, rel_dir, dataset_exporter, label_field, frame_labels_field, overwrite, progress, **kwargs)\u001b[0m\n\u001b[0;32m  12054\u001b[0m         \u001b[38;5;28;01mraise\u001b[39;00m \u001b[38;5;167;01mValueError\u001b[39;00m(\n\u001b[0;32m  12055\u001b[0m             \u001b[38;5;124m\"\u001b[39m\u001b[38;5;124mUnable to locate compatible sample or frame-level \u001b[39m\u001b[38;5;124m\"\u001b[39m\n\u001b[0;32m  12056\u001b[0m             \u001b[38;5;124m\"\u001b[39m\u001b[38;5;124mfield(s) to export\u001b[39m\u001b[38;5;124m\"\u001b[39m\n\u001b[0;32m  12057\u001b[0m         )\n\u001b[0;32m  12059\u001b[0m \u001b[38;5;66;03m# Perform the export\u001b[39;00m\n\u001b[1;32m> 12060\u001b[0m \u001b[43mfoud\u001b[49m\u001b[38;5;241;43m.\u001b[39;49m\u001b[43mexport_samples\u001b[49m\u001b[43m(\u001b[49m\n\u001b[0;32m  12061\u001b[0m \u001b[43m    \u001b[49m\u001b[43msample_collection\u001b[49m\u001b[43m,\u001b[49m\n\u001b[0;32m  12062\u001b[0m \u001b[43m    \u001b[49m\u001b[43mdataset_exporter\u001b[49m\u001b[38;5;241;43m=\u001b[39;49m\u001b[43mdataset_exporter\u001b[49m\u001b[43m,\u001b[49m\n\u001b[0;32m  12063\u001b[0m \u001b[43m    \u001b[49m\u001b[43mlabel_field\u001b[49m\u001b[38;5;241;43m=\u001b[39;49m\u001b[43mlabel_field\u001b[49m\u001b[43m,\u001b[49m\n\u001b[0;32m  12064\u001b[0m \u001b[43m    \u001b[49m\u001b[43mframe_labels_field\u001b[49m\u001b[38;5;241;43m=\u001b[39;49m\u001b[43mframe_labels_field\u001b[49m\u001b[43m,\u001b[49m\n\u001b[0;32m  12065\u001b[0m \u001b[43m    \u001b[49m\u001b[43mprogress\u001b[49m\u001b[38;5;241;43m=\u001b[39;49m\u001b[43mprogress\u001b[49m\u001b[43m,\u001b[49m\n\u001b[0;32m  12066\u001b[0m \u001b[43m    \u001b[49m\u001b[38;5;241;43m*\u001b[39;49m\u001b[38;5;241;43m*\u001b[39;49m\u001b[43mkwargs\u001b[49m\u001b[43m,\u001b[49m\n\u001b[0;32m  12067\u001b[0m \u001b[43m\u001b[49m\u001b[43m)\u001b[49m\n",
      "File \u001b[1;32m~\\AppData\\Roaming\\Python\\Python311\\site-packages\\fiftyone\\utils\\data\\exporters.py:366\u001b[0m, in \u001b[0;36mexport_samples\u001b[1;34m(samples, export_dir, dataset_type, data_path, labels_path, export_media, rel_dir, dataset_exporter, label_field, frame_labels_field, progress, num_samples, **kwargs)\u001b[0m\n\u001b[0;32m    361\u001b[0m \u001b[38;5;28;01melse\u001b[39;00m:\n\u001b[0;32m    362\u001b[0m     \u001b[38;5;28;01mraise\u001b[39;00m \u001b[38;5;167;01mValueError\u001b[39;00m(\n\u001b[0;32m    363\u001b[0m         \u001b[38;5;124m\"\u001b[39m\u001b[38;5;124mUnsupported DatasetExporter \u001b[39m\u001b[38;5;132;01m%s\u001b[39;00m\u001b[38;5;124m\"\u001b[39m \u001b[38;5;241m%\u001b[39m \u001b[38;5;28mtype\u001b[39m(dataset_exporter)\n\u001b[0;32m    364\u001b[0m     )\n\u001b[1;32m--> 366\u001b[0m \u001b[43mwrite_dataset\u001b[49m\u001b[43m(\u001b[49m\n\u001b[0;32m    367\u001b[0m \u001b[43m    \u001b[49m\u001b[43msamples\u001b[49m\u001b[43m,\u001b[49m\n\u001b[0;32m    368\u001b[0m \u001b[43m    \u001b[49m\u001b[43msample_parser\u001b[49m\u001b[43m,\u001b[49m\n\u001b[0;32m    369\u001b[0m \u001b[43m    \u001b[49m\u001b[43mdataset_exporter\u001b[49m\u001b[43m,\u001b[49m\n\u001b[0;32m    370\u001b[0m \u001b[43m    \u001b[49m\u001b[43msample_collection\u001b[49m\u001b[38;5;241;43m=\u001b[39;49m\u001b[43msample_collection\u001b[49m\u001b[43m,\u001b[49m\n\u001b[0;32m    371\u001b[0m \u001b[43m    \u001b[49m\u001b[43mprogress\u001b[49m\u001b[38;5;241;43m=\u001b[39;49m\u001b[43mprogress\u001b[49m\u001b[43m,\u001b[49m\n\u001b[0;32m    372\u001b[0m \u001b[43m    \u001b[49m\u001b[43mnum_samples\u001b[49m\u001b[38;5;241;43m=\u001b[39;49m\u001b[43mnum_samples\u001b[49m\u001b[43m,\u001b[49m\n\u001b[0;32m    373\u001b[0m \u001b[43m\u001b[49m\u001b[43m)\u001b[49m\n",
      "File \u001b[1;32m~\\AppData\\Roaming\\Python\\Python311\\site-packages\\fiftyone\\utils\\data\\exporters.py:433\u001b[0m, in \u001b[0;36mwrite_dataset\u001b[1;34m(samples, sample_parser, dataset_exporter, sample_collection, progress, num_samples)\u001b[0m\n\u001b[0;32m    422\u001b[0m     _write_group_dataset(\n\u001b[0;32m    423\u001b[0m         dataset_exporter,\n\u001b[0;32m    424\u001b[0m         samples,\n\u001b[1;32m   (...)\u001b[0m\n\u001b[0;32m    427\u001b[0m         num_samples\u001b[38;5;241m=\u001b[39mnum_samples,\n\u001b[0;32m    428\u001b[0m     )\n\u001b[0;32m    429\u001b[0m \u001b[38;5;28;01melif\u001b[39;00m \u001b[38;5;28misinstance\u001b[39m(\n\u001b[0;32m    430\u001b[0m     dataset_exporter,\n\u001b[0;32m    431\u001b[0m     (UnlabeledImageDatasetExporter, LabeledImageDatasetExporter),\n\u001b[0;32m    432\u001b[0m ):\n\u001b[1;32m--> 433\u001b[0m     \u001b[43m_write_image_dataset\u001b[49m\u001b[43m(\u001b[49m\n\u001b[0;32m    434\u001b[0m \u001b[43m        \u001b[49m\u001b[43mdataset_exporter\u001b[49m\u001b[43m,\u001b[49m\n\u001b[0;32m    435\u001b[0m \u001b[43m        \u001b[49m\u001b[43msamples\u001b[49m\u001b[43m,\u001b[49m\n\u001b[0;32m    436\u001b[0m \u001b[43m        \u001b[49m\u001b[43msample_parser\u001b[49m\u001b[43m,\u001b[49m\n\u001b[0;32m    437\u001b[0m \u001b[43m        \u001b[49m\u001b[43msample_collection\u001b[49m\u001b[38;5;241;43m=\u001b[39;49m\u001b[43msample_collection\u001b[49m\u001b[43m,\u001b[49m\n\u001b[0;32m    438\u001b[0m \u001b[43m        \u001b[49m\u001b[43mprogress\u001b[49m\u001b[38;5;241;43m=\u001b[39;49m\u001b[43mprogress\u001b[49m\u001b[43m,\u001b[49m\n\u001b[0;32m    439\u001b[0m \u001b[43m        \u001b[49m\u001b[43mnum_samples\u001b[49m\u001b[38;5;241;43m=\u001b[39;49m\u001b[43mnum_samples\u001b[49m\u001b[43m,\u001b[49m\n\u001b[0;32m    440\u001b[0m \u001b[43m    \u001b[49m\u001b[43m)\u001b[49m\n\u001b[0;32m    441\u001b[0m \u001b[38;5;28;01melif\u001b[39;00m \u001b[38;5;28misinstance\u001b[39m(\n\u001b[0;32m    442\u001b[0m     dataset_exporter,\n\u001b[0;32m    443\u001b[0m     (UnlabeledVideoDatasetExporter, LabeledVideoDatasetExporter),\n\u001b[0;32m    444\u001b[0m ):\n\u001b[0;32m    445\u001b[0m     _write_video_dataset(\n\u001b[0;32m    446\u001b[0m         dataset_exporter,\n\u001b[0;32m    447\u001b[0m         samples,\n\u001b[1;32m   (...)\u001b[0m\n\u001b[0;32m    451\u001b[0m         num_samples\u001b[38;5;241m=\u001b[39mnum_samples,\n\u001b[0;32m    452\u001b[0m     )\n",
      "File \u001b[1;32m~\\AppData\\Roaming\\Python\\Python311\\site-packages\\fiftyone\\utils\\data\\exporters.py:930\u001b[0m, in \u001b[0;36m_write_image_dataset\u001b[1;34m(dataset_exporter, samples, sample_parser, sample_collection, progress, num_samples)\u001b[0m\n\u001b[0;32m    927\u001b[0m     label \u001b[38;5;241m=\u001b[39m sample_parser\u001b[38;5;241m.\u001b[39mget_label()\n\u001b[0;32m    929\u001b[0m     \u001b[38;5;66;03m# Export sample\u001b[39;00m\n\u001b[1;32m--> 930\u001b[0m     \u001b[43mdataset_exporter\u001b[49m\u001b[38;5;241;43m.\u001b[39;49m\u001b[43mexport_sample\u001b[49m\u001b[43m(\u001b[49m\n\u001b[0;32m    931\u001b[0m \u001b[43m        \u001b[49m\u001b[43mimage_or_path\u001b[49m\u001b[43m,\u001b[49m\u001b[43m \u001b[49m\u001b[43mlabel\u001b[49m\u001b[43m,\u001b[49m\u001b[43m \u001b[49m\u001b[43mmetadata\u001b[49m\u001b[38;5;241;43m=\u001b[39;49m\u001b[43mmetadata\u001b[49m\n\u001b[0;32m    932\u001b[0m \u001b[43m    \u001b[49m\u001b[43m)\u001b[49m\n\u001b[0;32m    933\u001b[0m \u001b[38;5;28;01melse\u001b[39;00m:\n\u001b[0;32m    934\u001b[0m     \u001b[38;5;66;03m# Export sample\u001b[39;00m\n\u001b[0;32m    935\u001b[0m     dataset_exporter\u001b[38;5;241m.\u001b[39mexport_sample(\n\u001b[0;32m    936\u001b[0m         image_or_path, metadata\u001b[38;5;241m=\u001b[39mmetadata\n\u001b[0;32m    937\u001b[0m     )\n",
      "File \u001b[1;32m~\\AppData\\Roaming\\Python\\Python311\\site-packages\\fiftyone\\utils\\yolo.py:932\u001b[0m, in \u001b[0;36mYOLOv5DatasetExporter.export_sample\u001b[1;34m(self, image_or_path, label, metadata)\u001b[0m\n\u001b[0;32m    931\u001b[0m \u001b[38;5;28;01mdef\u001b[39;00m \u001b[38;5;21mexport_sample\u001b[39m(\u001b[38;5;28mself\u001b[39m, image_or_path, label, metadata\u001b[38;5;241m=\u001b[39m\u001b[38;5;28;01mNone\u001b[39;00m):\n\u001b[1;32m--> 932\u001b[0m     _, uuid \u001b[38;5;241m=\u001b[39m \u001b[38;5;28;43mself\u001b[39;49m\u001b[38;5;241;43m.\u001b[39;49m\u001b[43m_media_exporter\u001b[49m\u001b[38;5;241;43m.\u001b[39;49m\u001b[43mexport\u001b[49m\u001b[43m(\u001b[49m\u001b[43mimage_or_path\u001b[49m\u001b[43m)\u001b[49m\n\u001b[0;32m    934\u001b[0m     \u001b[38;5;28;01mif\u001b[39;00m label \u001b[38;5;129;01mis\u001b[39;00m \u001b[38;5;28;01mNone\u001b[39;00m:\n\u001b[0;32m    935\u001b[0m         \u001b[38;5;28;01mreturn\u001b[39;00m\n",
      "File \u001b[1;32m~\\AppData\\Roaming\\Python\\Python311\\site-packages\\fiftyone\\utils\\data\\exporters.py:1314\u001b[0m, in \u001b[0;36mMediaExporter.export\u001b[1;34m(self, media_or_path, outpath)\u001b[0m\n\u001b[0;32m   1312\u001b[0m     \u001b[38;5;28mself\u001b[39m\u001b[38;5;241m.\u001b[39m_handle_fo3d_file(media_path, outpath)\n\u001b[0;32m   1313\u001b[0m \u001b[38;5;28;01melif\u001b[39;00m \u001b[38;5;28mself\u001b[39m\u001b[38;5;241m.\u001b[39mexport_mode \u001b[38;5;129;01mis\u001b[39;00m \u001b[38;5;28;01mTrue\u001b[39;00m:\n\u001b[1;32m-> 1314\u001b[0m     \u001b[43metau\u001b[49m\u001b[38;5;241;43m.\u001b[39;49m\u001b[43mcopy_file\u001b[49m\u001b[43m(\u001b[49m\u001b[43mmedia_path\u001b[49m\u001b[43m,\u001b[49m\u001b[43m \u001b[49m\u001b[43moutpath\u001b[49m\u001b[43m)\u001b[49m\n\u001b[0;32m   1315\u001b[0m \u001b[38;5;28;01melif\u001b[39;00m \u001b[38;5;28mself\u001b[39m\u001b[38;5;241m.\u001b[39mexport_mode \u001b[38;5;241m==\u001b[39m \u001b[38;5;124m\"\u001b[39m\u001b[38;5;124mmove\u001b[39m\u001b[38;5;124m\"\u001b[39m:\n\u001b[0;32m   1316\u001b[0m     etau\u001b[38;5;241m.\u001b[39mmove_file(media_path, outpath)\n",
      "File \u001b[1;32m~\\AppData\\Roaming\\Python\\Python311\\site-packages\\eta\\core\\utils.py:2441\u001b[0m, in \u001b[0;36mcopy_file\u001b[1;34m(inpath, outpath, check_ext)\u001b[0m\n\u001b[0;32m   2438\u001b[0m ensure_basedir(outpath)\n\u001b[0;32m   2440\u001b[0m \u001b[38;5;28;01mtry\u001b[39;00m:\n\u001b[1;32m-> 2441\u001b[0m     \u001b[43mshutil\u001b[49m\u001b[38;5;241;43m.\u001b[39;49m\u001b[43mcopy\u001b[49m\u001b[43m(\u001b[49m\u001b[43minpath\u001b[49m\u001b[43m,\u001b[49m\u001b[43m \u001b[49m\u001b[43moutpath\u001b[49m\u001b[43m)\u001b[49m\n\u001b[0;32m   2442\u001b[0m \u001b[38;5;28;01mexcept\u001b[39;00m shutil\u001b[38;5;241m.\u001b[39mSameFileError:\n\u001b[0;32m   2443\u001b[0m     \u001b[38;5;28;01mpass\u001b[39;00m\n",
      "File \u001b[1;32mc:\\Program Files\\Python311\\Lib\\shutil.py:419\u001b[0m, in \u001b[0;36mcopy\u001b[1;34m(src, dst, follow_symlinks)\u001b[0m\n\u001b[0;32m    417\u001b[0m \u001b[38;5;28;01mif\u001b[39;00m os\u001b[38;5;241m.\u001b[39mpath\u001b[38;5;241m.\u001b[39misdir(dst):\n\u001b[0;32m    418\u001b[0m     dst \u001b[38;5;241m=\u001b[39m os\u001b[38;5;241m.\u001b[39mpath\u001b[38;5;241m.\u001b[39mjoin(dst, os\u001b[38;5;241m.\u001b[39mpath\u001b[38;5;241m.\u001b[39mbasename(src))\n\u001b[1;32m--> 419\u001b[0m \u001b[43mcopyfile\u001b[49m\u001b[43m(\u001b[49m\u001b[43msrc\u001b[49m\u001b[43m,\u001b[49m\u001b[43m \u001b[49m\u001b[43mdst\u001b[49m\u001b[43m,\u001b[49m\u001b[43m \u001b[49m\u001b[43mfollow_symlinks\u001b[49m\u001b[38;5;241;43m=\u001b[39;49m\u001b[43mfollow_symlinks\u001b[49m\u001b[43m)\u001b[49m\n\u001b[0;32m    420\u001b[0m copymode(src, dst, follow_symlinks\u001b[38;5;241m=\u001b[39mfollow_symlinks)\n\u001b[0;32m    421\u001b[0m \u001b[38;5;28;01mreturn\u001b[39;00m dst\n",
      "File \u001b[1;32mc:\\Program Files\\Python311\\Lib\\shutil.py:256\u001b[0m, in \u001b[0;36mcopyfile\u001b[1;34m(src, dst, follow_symlinks)\u001b[0m\n\u001b[0;32m    254\u001b[0m     os\u001b[38;5;241m.\u001b[39msymlink(os\u001b[38;5;241m.\u001b[39mreadlink(src), dst)\n\u001b[0;32m    255\u001b[0m \u001b[38;5;28;01melse\u001b[39;00m:\n\u001b[1;32m--> 256\u001b[0m     \u001b[38;5;28;01mwith\u001b[39;00m \u001b[38;5;28mopen\u001b[39m(src, \u001b[38;5;124m'\u001b[39m\u001b[38;5;124mrb\u001b[39m\u001b[38;5;124m'\u001b[39m) \u001b[38;5;28;01mas\u001b[39;00m fsrc:\n\u001b[0;32m    257\u001b[0m         \u001b[38;5;28;01mtry\u001b[39;00m:\n\u001b[0;32m    258\u001b[0m             \u001b[38;5;28;01mwith\u001b[39;00m \u001b[38;5;28mopen\u001b[39m(dst, \u001b[38;5;124m'\u001b[39m\u001b[38;5;124mwb\u001b[39m\u001b[38;5;124m'\u001b[39m) \u001b[38;5;28;01mas\u001b[39;00m fdst:\n\u001b[0;32m    259\u001b[0m                 \u001b[38;5;66;03m# macOS\u001b[39;00m\n",
      "\u001b[1;31mFileNotFoundError\u001b[0m: [Errno 2] No such file or directory: 'C:\\\\Users\\\\dsmat\\\\fiftyone\\\\open-images-v7\\\\train\\\\data\\\\0310fbeb641f3af8.jpg'"
     ]
    }
   ],
   "source": [
    "train_dataset.export(\n",
    "    export_dir=\"./train\",\n",
    "    dataset_type=fo.types.YOLOv5Dataset,\n",
    "    classes=[\"Human head\", \"Animal\"])"
   ]
  },
  {
   "cell_type": "markdown",
   "id": "5b905cdc",
   "metadata": {},
   "source": [
    "fetch the validation Data"
   ]
  },
  {
   "cell_type": "markdown",
   "id": "7d7ec01e",
   "metadata": {},
   "source": [
    "02fb484d29774952.jpg"
   ]
  },
  {
   "cell_type": "code",
   "execution_count": null,
   "id": "7d6f6472",
   "metadata": {},
   "outputs": [
    {
     "name": "stdout",
     "output_type": "stream",
     "text": [
      "Downloading split 'validation' to 'C:\\Users\\dsmat\\fiftyone\\open-images-v7\\validation' if necessary\n",
      "Necessary images already downloaded\n",
      "Existing download of split 'validation' is sufficient\n",
      "Loading existing dataset 'open-images-v7-validation-1000'. To reload from disk, either delete the existing dataset or provide a custom `dataset_name` to use\n"
     ]
    }
   ],
   "source": [
    "val_dataset = foz.load_zoo_dataset(\n",
    "    \"open-images-v7\",\n",
    "    split=\"validation\",\n",
    "    label_types=[\"detections\"],\n",
    "    classes=[\"Human head\",\"Animal\"],\n",
    "    dataset_name=\"open-images-val-human-animal-1000\",\n",
    "    max_samples=1000,\n",
    "    overwrite=True, \n",
    ")"
   ]
  },
  {
   "cell_type": "code",
   "execution_count": null,
   "id": "e998eb12",
   "metadata": {},
   "outputs": [],
   "source": [
    "for sample in val_dataset:\n",
    "    sample.ground_truth.detections = [\n",
    "        det for det in sample.ground_truth.detections if det.label == \"Human head\" or det.label == \"Animal\"\n",
    "    ]\n",
    "    sample.save()\n"
   ]
  },
  {
   "cell_type": "code",
   "execution_count": null,
   "id": "5b6b9191",
   "metadata": {},
   "outputs": [
    {
     "name": "stdout",
     "output_type": "stream",
     "text": [
      " 100% |███████████████| 1000/1000 [2.2s elapsed, 0s remaining, 392.9 samples/s]         \n"
     ]
    }
   ],
   "source": [
    "\n",
    "val_dataset.export(\n",
    "    export_dir=\"./val\",\n",
    "    dataset_type=fo.types.YOLOv5Dataset,\n",
    "    classes=[\"Human head\", \"Animal\"]\n",
    ")\n"
   ]
  },
  {
   "cell_type": "code",
   "execution_count": null,
   "id": "3d9fa851",
   "metadata": {},
   "outputs": [],
   "source": []
  },
  {
   "cell_type": "code",
   "execution_count": null,
   "id": "97eb16a9",
   "metadata": {},
   "outputs": [],
   "source": []
  },
  {
   "cell_type": "code",
   "execution_count": null,
   "id": "78240755",
   "metadata": {},
   "outputs": [],
   "source": []
  },
  {
   "cell_type": "code",
   "execution_count": null,
   "id": "93c82310",
   "metadata": {},
   "outputs": [],
   "source": []
  }
 ],
 "metadata": {
  "kernelspec": {
   "display_name": "Python 3",
   "language": "python",
   "name": "python3"
  },
  "language_info": {
   "codemirror_mode": {
    "name": "ipython",
    "version": 3
   },
   "file_extension": ".py",
   "mimetype": "text/x-python",
   "name": "python",
   "nbconvert_exporter": "python",
   "pygments_lexer": "ipython3",
   "version": "3.11.5"
  }
 },
 "nbformat": 4,
 "nbformat_minor": 5
}
